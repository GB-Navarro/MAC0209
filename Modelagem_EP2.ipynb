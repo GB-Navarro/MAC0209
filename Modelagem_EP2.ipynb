{
  "cells": [
    {
      "cell_type": "markdown",
      "metadata": {
        "id": "view-in-github",
        "colab_type": "text"
      },
      "source": [
        "<a href=\"https://colab.research.google.com/github/GB-Navarro/MAC0209/blob/main/Modelagem_EP2.ipynb\" target=\"_parent\"><img src=\"https://colab.research.google.com/assets/colab-badge.svg\" alt=\"Open In Colab\"/></a>"
      ]
    },
    {
      "cell_type": "markdown",
      "metadata": {
        "id": "pvaYxt9Ibv1e"
      },
      "source": [
        "<font size=\"5\"> <a href=\"https://uspdigital.usp.br/jupiterweb/obterDisciplina?sgldis=MAC0209\"> Exercício de MAC0209 - Modelagem e Simulação</a> </font>\n",
        "\n",
        "Cauê Fornielles da Costa (14564489) (IME-USP)\n",
        "\n",
        "Gabriel da Silva Navarro (13727908) (IME-USP)\n",
        "\n",
        "Kim Kakeya V. Carvalho (14586560) (IME-USP)\n",
        "\n",
        "***\n",
        "<font size=\"5\"> EP — Abordagem Determinística </font>\n",
        "***"
      ]
    },
    {
      "cell_type": "markdown",
      "metadata": {
        "id": "QklAi6a0bv1h"
      },
      "source": [
        "# Setup"
      ]
    },
    {
      "cell_type": "code",
      "source": [
        "# Importa o módulo 'drive' do pacote 'google.colab' para montar o Google Drive no ambiente do Google Colab. Isto é feito pois,\n",
        "# a montagem do Google Drive torna mais fácil e conveniente o acesso a esses arquivos diretamente do ambiente do Colab.\n",
        "\n",
        "from google.colab import drive\n",
        "drive.mount('/content/drive')"
      ],
      "metadata": {
        "id": "7TeR3TdKmo67"
      },
      "execution_count": null,
      "outputs": []
    },
    {
      "cell_type": "code",
      "source": [
        "# Importa as bibliotecas que serão utilizadas ao longo desse jupyter notebook.\n",
        "\n",
        "import matplotlib.pyplot as pyplot\n",
        "import pandas as pd\n",
        "import numpy as np\n",
        "import random\n",
        "import math"
      ],
      "metadata": {
        "id": "UME7MmYJThIZ"
      },
      "execution_count": 6,
      "outputs": []
    },
    {
      "cell_type": "markdown",
      "source": [
        "# Lib"
      ],
      "metadata": {
        "id": "AqDavzULTkyg"
      }
    },
    {
      "cell_type": "code",
      "source": [
        "# Lib aqui\n",
        "\n",
        "\n",
        "# Edite seu path abaixo:\n",
        "def myPath():\n",
        "  workDir = '/content/drive/MyDrive/doc/Courses/Modelagem/programas/jupyter/2022/'\n",
        "  return(workDir)\n",
        "\n",
        "def demoWorkDir():\n",
        "  # Usa o ponto de montagem do google drive para  ler e salvar dados\n",
        "  wd = myPath()\n",
        "  csvFile = wd + 'foo.csv'\n",
        "\n",
        "  df = pd.read_csv(csvFile, sep = ';')\n",
        "  print(df.to_string())\n",
        "\n",
        "demoWorkDir()\n"
      ],
      "metadata": {
        "id": "kSjv7-0KbBCI",
        "colab": {
          "base_uri": "https://localhost:8080/"
        },
        "outputId": "13fc0712-0315-456a-fdb5-0428f5e4310f"
      },
      "execution_count": null,
      "outputs": [
        {
          "output_type": "stream",
          "name": "stdout",
          "text": [
            "          time  gFx    gFy    gFz    TgF\n",
            "0   12.062.115 -352  9.970  1.400  1.007\n",
            "1   12.577.769 -352  9.970  1.400  1.007\n",
            "2   12.831.577 -354  9.975  1.407  1.008\n",
            "3   13.105.423 -362  9.992  1.478  1.011\n",
            "4   13.307.038 -330  9.966  1.593  1.010\n",
            "5      135.025 -320  9.968  1.669  1.011\n",
            "6   13.778.961 -325  9.966  1.840  1.014\n",
            "7   13.974.884 -340  9.970  1.942  1.016\n",
            "8   14.169.577 -337  9.978  2.140  1.021\n",
            "9   14.361.346 -349  9.958  2.345  1.024\n",
            "10  14.551.269 -359  9.924  2.560  1.026\n",
            "11  17.048.615 -359  9.924  2.560  1.026\n",
            "12  17.398.038 -386  9.914  2.639  1.027\n",
            "13  17.939.346 -386  9.904  2.660  1.026\n",
            "14      20.016 -379  9.897  2.722  1.027\n"
          ]
        }
      ]
    },
    {
      "cell_type": "markdown",
      "source": [
        "# Main"
      ],
      "metadata": {
        "id": "bKrj26w7UKDK"
      }
    },
    {
      "cell_type": "markdown",
      "source": [
        "## Simulação de movimento unidimensional"
      ],
      "metadata": {
        "id": "T45HKJgqFarx"
      }
    },
    {
      "cell_type": "markdown",
      "source": [
        "### Modelagem de uma partícula que se move unidimensionalmente"
      ],
      "metadata": {
        "id": "Dr_3C_4OfWz9"
      }
    },
    {
      "cell_type": "code",
      "source": [
        "class Particle1D:\n",
        "\n",
        "  def __init__(self, initial_position, speed, initial_time, final_time):\n",
        "    '''\n",
        "      Description:\n",
        "        Construtor da classe \"Particle1D\".\n",
        "\n",
        "        A classe \"Particle1D\" representa uma partícula que está em movimento unidimensional. Tal partícula deve receber como atributos\n",
        "        iniciais a sua posição inicial, a sua velocidade (constante) e os instantes inicial e final de tempo que serão considerados no\n",
        "        experimento. Após isso, será calculado para essa partícula as suas posições em função do tempo, posições essas que também serão\n",
        "        um atributo da partícula.\n",
        "\n",
        "      Args:\n",
        "        self (Particle1D): Objeto do tipo \"Particle1D\".\n",
        "        initial_position (float): Posição inicial da partícula considerada no experimento.\n",
        "        speed (float): Velocidade da partícula considerada no experimento.\n",
        "        initial_time (int): Inteiro que representa o instante de tempo inicial do experimento.\n",
        "        final_time (int): Inteiro que representa o instante de tempo final do experimento.\n",
        "\n",
        "      Return:\n",
        "        None\n",
        "    '''\n",
        "\n",
        "    # Seta alguns atributos (públicos) iniciais da partícula com base nos parâmetros recebidos.\n",
        "    self.initial_position = initial_position\n",
        "    self.speed = speed\n",
        "\n",
        "    # Seta alguns atributos (que seriam privados) iniciais da partícula com base nos parâmetros recebidos. A ideia dos atributos abaixo serem privados\n",
        "    # é que se use no lugar deles o atributo \"time_variations\".\n",
        "    self._initial_time = initial_time\n",
        "    self._final_time = final_time\n",
        "\n",
        "    # Com base em \"initial_time\" e \"final_time\" é criado uma lista de inteiros que representa os intervalos de tempo do experimento. Tal lista\n",
        "    # de inteiros é guardada no atributo \"time_variations\". Vale ressaltar que existem (final_time - initial_time) + 1 intervalos de tempo, e\n",
        "    # cada intervalo de tempo tem uma diferença de 1 segundo para o intervalo anterior.\n",
        "    self.time_variations = [i for i in range(initial_time,(final_time + 1),1)]\n",
        "\n",
        "    # Calcula com base nos atributos iniciais da partícula as suas posições em função do tempo e guarda esse dados no atributo \"positions\".\n",
        "    self.positions = self.get_position_as_a_time_function()\n",
        "\n",
        "\n",
        "  def __str__(self):\n",
        "    '''\n",
        "      Description:\n",
        "        Esse método é responsável por gerar uma representação em formato de string para objetos do tipo \"Particle1D\".\n",
        "\n",
        "      Args:\n",
        "        self (Particle1D): Objeto do tipo \"Particle1D\" que será printado.\n",
        "\n",
        "      Return:\n",
        "        representation (string): Representação da partícula através de uma string.\n",
        "    '''\n",
        "\n",
        "    # Guarda em variáveis os atributos básicos da partícula em questão convertidos para string.\n",
        "    initial_position = str(self.initial_position)\n",
        "    speed = str(self.speed)\n",
        "\n",
        "    # Transforma cada elemento do vetor \"self.time_variations\" em string e após isso transforma todo o vetor em uma única string, mantendo a\n",
        "    # representação de lista.\n",
        "    time_variations = [str(time_variation)+\"s\" for time_variation in self.time_variations]\n",
        "    time_variations = '[' + ','.join(time_variations) + ']'\n",
        "\n",
        "    # Transforma cada elemento do vetor \"self.positions\" em string e após isso transforma todo o vetor em uma única string, mantendo a\n",
        "    # representação de lista.\n",
        "    positions = [str(position)+\"m\" for position in self.positions]\n",
        "    positions = '[' + ','.join(positions) + ']'\n",
        "\n",
        "    # Cria uma representação em formato de string para objetos do tipo \"Particle1D\".\n",
        "    representation = \"Posição inicial: \" + initial_position + \" m\\n\" + \"Velocidade: \" + speed + \" m/s\\n\" + \"Tempo: \" + time_variations + \"\\n\" +\"Posição(tempo): \" + positions + \"\\n\"\n",
        "\n",
        "    # Retorna a representação criada.\n",
        "    return representation\n",
        "\n",
        "  def get_position_as_a_time_function(self):\n",
        "    '''\n",
        "      Description:\n",
        "        Esse método calcula e seta a posição final de uma partícula com base em 4 parâmetros\n",
        "        dados (posição inicial, velocidade, instante inicial de tempo, instante final de tempo).\n",
        "        Para tal, a fórmula (em Latex) $x(t_{2}) = x(t_{1}) + v \\cdot (t_{2} - t_{1})$ é usada.\n",
        "\n",
        "      Args:\n",
        "        self (Particle1D): Objeto do tipo \"Particle1D\" no qual o atributo \"final_position\" será setado.\n",
        "\n",
        "      Return:\n",
        "        None\n",
        "    '''\n",
        "\n",
        "    # Gera um vetor que representa a posição da partícula em cada instante de tempo. Tais posições são calculadas através da fórmula\n",
        "    # (em latex) $x(t) = x_{0} + v \\cdot (t - t_{0})$.\n",
        "    return [self.initial_position + self.speed * delta_t for delta_t in self.time_variations]\n",
        "\n",
        "  def get_speed_as_a_time_function(self):\n",
        "    '''\n",
        "      Description:\n",
        "        Esse método calcula e seta a velocidade de uma partícula com base em 4 parâmetros\n",
        "        dados (posição inicial, posição final, instante inicial de tempo, instante final de tempo).\n",
        "        Para tal, a fórmula (em Latex) $v = \\frac{x(t_{2}) - x(t_{1})}{t_{2} - t_{1}}$ é usada.\n",
        "\n",
        "      Args:\n",
        "        self (Particle1D): Objeto do tipo \"Particle1D\" na qual o atributo \"speed\" será setado.\n",
        "\n",
        "      Return\n",
        "        None\n",
        "    '''\n",
        "\n",
        "    # Gera um vetor que representa a velocidade da partícula em cada instante de tempo. Tais velocidades (que devem ser iguais) são calculadas\n",
        "    # através da fórmula (em latex) $v = \\frac{x - x_{0}}{t - t_{0}}$.\n",
        "    space_intervals = [position - self.initial_position for position in self.positions[1:]]\n",
        "    time_intervals = [t - self._initial_time for t in self.time_variations[1:]]\n",
        "\n",
        "    return [space / time for space, time in zip(space_intervals, time_intervals)]"
      ],
      "metadata": {
        "id": "9IPxuVz9qOBP"
      },
      "execution_count": 17,
      "outputs": []
    },
    {
      "cell_type": "markdown",
      "source": [
        "### Criação da amostra\n"
      ],
      "metadata": {
        "id": "-QJ34o0FCMsQ"
      }
    },
    {
      "cell_type": "code",
      "source": [
        "def create_Particle1D_sample(seed):\n",
        "  '''\n",
        "      Description:\n",
        "        Essa função gera uma amostra aleatória de um objeto do tipo \"Particle1D\", isto é,\n",
        "        de uma partícula que se move unidimensionalmente.\n",
        "\n",
        "      Args:\n",
        "        seed (int): Inteiro que será usado como semente para a geração de números pseudo-aleatórios.\n",
        "\n",
        "      Return:\n",
        "        particle (Particle1D): Objeto do tipo \"Particle1D\".\n",
        "  '''\n",
        "\n",
        "  # Usa a semente recebida como parâmetro para a geração de números pseudo-aleatórios.\n",
        "  random.seed(seed)\n",
        "\n",
        "  # Gera um números pseudo-aleatório entre 0 e 1000 que representará a posição inicial da partícula no experimento.\n",
        "  initial_position = random.randint(0,1000)\n",
        "\n",
        "  # Gera um número pseudo-aletório entre 10 e 10000 que representará a velocidade da partícula no experimento.\n",
        "  speed = random.randint(10,10000)\n",
        "\n",
        "  # Gera um número pseudo-aleatório entre 0 e 100 que representará o instante inicial de tempo onde o movimento da partícula se iniciará.\n",
        "  initial_time = random.randint(0,100)\n",
        "\n",
        "  # Gera um número pseudo-aleatório que representa o instante de tempo onde o movimento da partícula se cessará. Tal número é gerado como\n",
        "  # função do número \"initial_time\".\n",
        "  final_time = initial_time*random.randint(10,50)\n",
        "\n",
        "  # Cria um novo objeto do tipo \"Particle1D\" com os atributos guardados nas variáveis acima.\n",
        "  particle = Particle1D(initial_position, speed, initial_time, final_time)\n",
        "\n",
        "  # Retorna a partícula criada.\n",
        "  return particle"
      ],
      "metadata": {
        "id": "d9suMiFV-Ata"
      },
      "execution_count": 18,
      "outputs": []
    },
    {
      "cell_type": "code",
      "source": [
        "def save_Particle1D_values(filename, sample):\n",
        "  '''\n",
        "    Description:\n",
        "      Essa função é responsável por salvar os dados de uma amostra em um arquivo '.csv'.\n",
        "\n",
        "    Args:\n",
        "      filename (string): String que representa o nome do arquivo '.csv' em que os dados da amostra serão salvos.\n",
        "      sample (Particle1D): Objeto do tipo \"Particle1D\".\n",
        "\n",
        "    Return\n",
        "      None\n",
        "  '''\n",
        "\n",
        "  # A variável abaixo é responsável por guardar o tamanho dos vetores que serão passados para o data frame. Isto é, ela guarda o número de\n",
        "  # linha que o data frame a ser criado possuirá.\n",
        "  # Observe que len(sample.time_variations) == len(sample.positions)\n",
        "  number_of_intervals = len(sample.time_variations)\n",
        "\n",
        "  # Cria um data frame com base nos dados da amostra recebida como parâmetro\n",
        "  df = pd.DataFrame({\n",
        "      \"Posição inicial (m)\": [sample.initial_position for _ in range(number_of_intervals)],\n",
        "      \"Velocidade (m/s)\": [sample.speed for _ in range(number_of_intervals)],\n",
        "      \"Tempo (s)\": sample.time_variations,\n",
        "      \"Posição em função do tempo (m)\": sample.positions\n",
        "  })\n",
        "\n",
        "  # Salva o data frame criado em um arquivo '.csv' de nome 'filename'.\n",
        "  df.to_csv(filename, index=False)"
      ],
      "metadata": {
        "id": "2e0RGibZpnFu"
      },
      "execution_count": 19,
      "outputs": []
    },
    {
      "cell_type": "markdown",
      "source": [
        "### Execução da simulação"
      ],
      "metadata": {
        "id": "KzV7waGnzOsq"
      }
    },
    {
      "cell_type": "code",
      "source": [
        "def execute_1D_simulation(seed,filename):\n",
        "  '''\n",
        "    Description:\n",
        "      Função responsável por chamar as funções que executam a simulação do movimento unidimensional da particula.\n",
        "\n",
        "      PS: A simulação ocorre no próprio objeto \"Particle1D\", já que na criação de objetos desse tipo é calculado a sua posição em função\n",
        "      do tempo e, se preciso, a sua velocidade em função do tempo (embora a mesma seja constante).\n",
        "\n",
        "    Args:\n",
        "      None\n",
        "\n",
        "    Return\n",
        "      None\n",
        "  '''\n",
        "\n",
        "  # Cria a amostra que será usada na simulação.\n",
        "  sample = create_Particle1D_sample(seed)\n",
        "\n",
        "  # Cria um data frame com os resultados obtidos da simulação com a amostra criada acima e, após isso,\n",
        "  # salva esse data frame em um arquivo '.csv'.\n",
        "  save_Particle1D_values(filename, sample)\n",
        "\n",
        "execute_1D_simulation(10,'Particle1D')"
      ],
      "metadata": {
        "id": "w_XWCG6sw_1e"
      },
      "execution_count": 20,
      "outputs": []
    },
    {
      "cell_type": "markdown",
      "source": [
        "### Exibição dos resultados obtidos em uma tabela"
      ],
      "metadata": {
        "id": "JPLXovmXfngP"
      }
    },
    {
      "cell_type": "code",
      "source": [
        "def open_and_show_Particle1D_table(filename):\n",
        "    '''\n",
        "    '''\n",
        "\n",
        "    # Cria um data frame a partir do arquivo 'filename'.csv .\n",
        "    df = pd.read_csv(filename)\n",
        "\n",
        "    # Exibe o DataFrame criado.\n",
        "    display(df)\n"
      ],
      "metadata": {
        "id": "JDMwcr2SuSDA"
      },
      "execution_count": 21,
      "outputs": []
    },
    {
      "cell_type": "code",
      "source": [
        "open_and_show_Particle1D_table(\"Particle1D\")"
      ],
      "metadata": {
        "colab": {
          "base_uri": "https://localhost:8080/",
          "height": 0
        },
        "id": "en5hrphI6i7q",
        "outputId": "4f068dc7-2cae-4c98-e80f-9276141c36ec"
      },
      "execution_count": 22,
      "outputs": [
        {
          "output_type": "display_data",
          "data": {
            "text/plain": [
              "      Posição inicial (m)  Velocidade (m/s)  Tempo (s)  \\\n",
              "0                     585               543         54   \n",
              "1                     585               543         55   \n",
              "2                     585               543         56   \n",
              "3                     585               543         57   \n",
              "4                     585               543         58   \n",
              "...                   ...               ...        ...   \n",
              "2102                  585               543       2156   \n",
              "2103                  585               543       2157   \n",
              "2104                  585               543       2158   \n",
              "2105                  585               543       2159   \n",
              "2106                  585               543       2160   \n",
              "\n",
              "      Posição em função do tempo (m)  \n",
              "0                              29907  \n",
              "1                              30450  \n",
              "2                              30993  \n",
              "3                              31536  \n",
              "4                              32079  \n",
              "...                              ...  \n",
              "2102                         1171293  \n",
              "2103                         1171836  \n",
              "2104                         1172379  \n",
              "2105                         1172922  \n",
              "2106                         1173465  \n",
              "\n",
              "[2107 rows x 4 columns]"
            ],
            "text/html": [
              "\n",
              "  <div id=\"df-02a06b43-780b-40e8-9c24-1402cc62108d\" class=\"colab-df-container\">\n",
              "    <div>\n",
              "<style scoped>\n",
              "    .dataframe tbody tr th:only-of-type {\n",
              "        vertical-align: middle;\n",
              "    }\n",
              "\n",
              "    .dataframe tbody tr th {\n",
              "        vertical-align: top;\n",
              "    }\n",
              "\n",
              "    .dataframe thead th {\n",
              "        text-align: right;\n",
              "    }\n",
              "</style>\n",
              "<table border=\"1\" class=\"dataframe\">\n",
              "  <thead>\n",
              "    <tr style=\"text-align: right;\">\n",
              "      <th></th>\n",
              "      <th>Posição inicial (m)</th>\n",
              "      <th>Velocidade (m/s)</th>\n",
              "      <th>Tempo (s)</th>\n",
              "      <th>Posição em função do tempo (m)</th>\n",
              "    </tr>\n",
              "  </thead>\n",
              "  <tbody>\n",
              "    <tr>\n",
              "      <th>0</th>\n",
              "      <td>585</td>\n",
              "      <td>543</td>\n",
              "      <td>54</td>\n",
              "      <td>29907</td>\n",
              "    </tr>\n",
              "    <tr>\n",
              "      <th>1</th>\n",
              "      <td>585</td>\n",
              "      <td>543</td>\n",
              "      <td>55</td>\n",
              "      <td>30450</td>\n",
              "    </tr>\n",
              "    <tr>\n",
              "      <th>2</th>\n",
              "      <td>585</td>\n",
              "      <td>543</td>\n",
              "      <td>56</td>\n",
              "      <td>30993</td>\n",
              "    </tr>\n",
              "    <tr>\n",
              "      <th>3</th>\n",
              "      <td>585</td>\n",
              "      <td>543</td>\n",
              "      <td>57</td>\n",
              "      <td>31536</td>\n",
              "    </tr>\n",
              "    <tr>\n",
              "      <th>4</th>\n",
              "      <td>585</td>\n",
              "      <td>543</td>\n",
              "      <td>58</td>\n",
              "      <td>32079</td>\n",
              "    </tr>\n",
              "    <tr>\n",
              "      <th>...</th>\n",
              "      <td>...</td>\n",
              "      <td>...</td>\n",
              "      <td>...</td>\n",
              "      <td>...</td>\n",
              "    </tr>\n",
              "    <tr>\n",
              "      <th>2102</th>\n",
              "      <td>585</td>\n",
              "      <td>543</td>\n",
              "      <td>2156</td>\n",
              "      <td>1171293</td>\n",
              "    </tr>\n",
              "    <tr>\n",
              "      <th>2103</th>\n",
              "      <td>585</td>\n",
              "      <td>543</td>\n",
              "      <td>2157</td>\n",
              "      <td>1171836</td>\n",
              "    </tr>\n",
              "    <tr>\n",
              "      <th>2104</th>\n",
              "      <td>585</td>\n",
              "      <td>543</td>\n",
              "      <td>2158</td>\n",
              "      <td>1172379</td>\n",
              "    </tr>\n",
              "    <tr>\n",
              "      <th>2105</th>\n",
              "      <td>585</td>\n",
              "      <td>543</td>\n",
              "      <td>2159</td>\n",
              "      <td>1172922</td>\n",
              "    </tr>\n",
              "    <tr>\n",
              "      <th>2106</th>\n",
              "      <td>585</td>\n",
              "      <td>543</td>\n",
              "      <td>2160</td>\n",
              "      <td>1173465</td>\n",
              "    </tr>\n",
              "  </tbody>\n",
              "</table>\n",
              "<p>2107 rows × 4 columns</p>\n",
              "</div>\n",
              "    <div class=\"colab-df-buttons\">\n",
              "\n",
              "  <div class=\"colab-df-container\">\n",
              "    <button class=\"colab-df-convert\" onclick=\"convertToInteractive('df-02a06b43-780b-40e8-9c24-1402cc62108d')\"\n",
              "            title=\"Convert this dataframe to an interactive table.\"\n",
              "            style=\"display:none;\">\n",
              "\n",
              "  <svg xmlns=\"http://www.w3.org/2000/svg\" height=\"24px\" viewBox=\"0 -960 960 960\">\n",
              "    <path d=\"M120-120v-720h720v720H120Zm60-500h600v-160H180v160Zm220 220h160v-160H400v160Zm0 220h160v-160H400v160ZM180-400h160v-160H180v160Zm440 0h160v-160H620v160ZM180-180h160v-160H180v160Zm440 0h160v-160H620v160Z\"/>\n",
              "  </svg>\n",
              "    </button>\n",
              "\n",
              "  <style>\n",
              "    .colab-df-container {\n",
              "      display:flex;\n",
              "      gap: 12px;\n",
              "    }\n",
              "\n",
              "    .colab-df-convert {\n",
              "      background-color: #E8F0FE;\n",
              "      border: none;\n",
              "      border-radius: 50%;\n",
              "      cursor: pointer;\n",
              "      display: none;\n",
              "      fill: #1967D2;\n",
              "      height: 32px;\n",
              "      padding: 0 0 0 0;\n",
              "      width: 32px;\n",
              "    }\n",
              "\n",
              "    .colab-df-convert:hover {\n",
              "      background-color: #E2EBFA;\n",
              "      box-shadow: 0px 1px 2px rgba(60, 64, 67, 0.3), 0px 1px 3px 1px rgba(60, 64, 67, 0.15);\n",
              "      fill: #174EA6;\n",
              "    }\n",
              "\n",
              "    .colab-df-buttons div {\n",
              "      margin-bottom: 4px;\n",
              "    }\n",
              "\n",
              "    [theme=dark] .colab-df-convert {\n",
              "      background-color: #3B4455;\n",
              "      fill: #D2E3FC;\n",
              "    }\n",
              "\n",
              "    [theme=dark] .colab-df-convert:hover {\n",
              "      background-color: #434B5C;\n",
              "      box-shadow: 0px 1px 3px 1px rgba(0, 0, 0, 0.15);\n",
              "      filter: drop-shadow(0px 1px 2px rgba(0, 0, 0, 0.3));\n",
              "      fill: #FFFFFF;\n",
              "    }\n",
              "  </style>\n",
              "\n",
              "    <script>\n",
              "      const buttonEl =\n",
              "        document.querySelector('#df-02a06b43-780b-40e8-9c24-1402cc62108d button.colab-df-convert');\n",
              "      buttonEl.style.display =\n",
              "        google.colab.kernel.accessAllowed ? 'block' : 'none';\n",
              "\n",
              "      async function convertToInteractive(key) {\n",
              "        const element = document.querySelector('#df-02a06b43-780b-40e8-9c24-1402cc62108d');\n",
              "        const dataTable =\n",
              "          await google.colab.kernel.invokeFunction('convertToInteractive',\n",
              "                                                    [key], {});\n",
              "        if (!dataTable) return;\n",
              "\n",
              "        const docLinkHtml = 'Like what you see? Visit the ' +\n",
              "          '<a target=\"_blank\" href=https://colab.research.google.com/notebooks/data_table.ipynb>data table notebook</a>'\n",
              "          + ' to learn more about interactive tables.';\n",
              "        element.innerHTML = '';\n",
              "        dataTable['output_type'] = 'display_data';\n",
              "        await google.colab.output.renderOutput(dataTable, element);\n",
              "        const docLink = document.createElement('div');\n",
              "        docLink.innerHTML = docLinkHtml;\n",
              "        element.appendChild(docLink);\n",
              "      }\n",
              "    </script>\n",
              "  </div>\n",
              "\n",
              "\n",
              "<div id=\"df-eb7957f4-e0f9-4c27-a6f2-e72feb05d310\">\n",
              "  <button class=\"colab-df-quickchart\" onclick=\"quickchart('df-eb7957f4-e0f9-4c27-a6f2-e72feb05d310')\"\n",
              "            title=\"Suggest charts\"\n",
              "            style=\"display:none;\">\n",
              "\n",
              "<svg xmlns=\"http://www.w3.org/2000/svg\" height=\"24px\"viewBox=\"0 0 24 24\"\n",
              "     width=\"24px\">\n",
              "    <g>\n",
              "        <path d=\"M19 3H5c-1.1 0-2 .9-2 2v14c0 1.1.9 2 2 2h14c1.1 0 2-.9 2-2V5c0-1.1-.9-2-2-2zM9 17H7v-7h2v7zm4 0h-2V7h2v10zm4 0h-2v-4h2v4z\"/>\n",
              "    </g>\n",
              "</svg>\n",
              "  </button>\n",
              "\n",
              "<style>\n",
              "  .colab-df-quickchart {\n",
              "      --bg-color: #E8F0FE;\n",
              "      --fill-color: #1967D2;\n",
              "      --hover-bg-color: #E2EBFA;\n",
              "      --hover-fill-color: #174EA6;\n",
              "      --disabled-fill-color: #AAA;\n",
              "      --disabled-bg-color: #DDD;\n",
              "  }\n",
              "\n",
              "  [theme=dark] .colab-df-quickchart {\n",
              "      --bg-color: #3B4455;\n",
              "      --fill-color: #D2E3FC;\n",
              "      --hover-bg-color: #434B5C;\n",
              "      --hover-fill-color: #FFFFFF;\n",
              "      --disabled-bg-color: #3B4455;\n",
              "      --disabled-fill-color: #666;\n",
              "  }\n",
              "\n",
              "  .colab-df-quickchart {\n",
              "    background-color: var(--bg-color);\n",
              "    border: none;\n",
              "    border-radius: 50%;\n",
              "    cursor: pointer;\n",
              "    display: none;\n",
              "    fill: var(--fill-color);\n",
              "    height: 32px;\n",
              "    padding: 0;\n",
              "    width: 32px;\n",
              "  }\n",
              "\n",
              "  .colab-df-quickchart:hover {\n",
              "    background-color: var(--hover-bg-color);\n",
              "    box-shadow: 0 1px 2px rgba(60, 64, 67, 0.3), 0 1px 3px 1px rgba(60, 64, 67, 0.15);\n",
              "    fill: var(--button-hover-fill-color);\n",
              "  }\n",
              "\n",
              "  .colab-df-quickchart-complete:disabled,\n",
              "  .colab-df-quickchart-complete:disabled:hover {\n",
              "    background-color: var(--disabled-bg-color);\n",
              "    fill: var(--disabled-fill-color);\n",
              "    box-shadow: none;\n",
              "  }\n",
              "\n",
              "  .colab-df-spinner {\n",
              "    border: 2px solid var(--fill-color);\n",
              "    border-color: transparent;\n",
              "    border-bottom-color: var(--fill-color);\n",
              "    animation:\n",
              "      spin 1s steps(1) infinite;\n",
              "  }\n",
              "\n",
              "  @keyframes spin {\n",
              "    0% {\n",
              "      border-color: transparent;\n",
              "      border-bottom-color: var(--fill-color);\n",
              "      border-left-color: var(--fill-color);\n",
              "    }\n",
              "    20% {\n",
              "      border-color: transparent;\n",
              "      border-left-color: var(--fill-color);\n",
              "      border-top-color: var(--fill-color);\n",
              "    }\n",
              "    30% {\n",
              "      border-color: transparent;\n",
              "      border-left-color: var(--fill-color);\n",
              "      border-top-color: var(--fill-color);\n",
              "      border-right-color: var(--fill-color);\n",
              "    }\n",
              "    40% {\n",
              "      border-color: transparent;\n",
              "      border-right-color: var(--fill-color);\n",
              "      border-top-color: var(--fill-color);\n",
              "    }\n",
              "    60% {\n",
              "      border-color: transparent;\n",
              "      border-right-color: var(--fill-color);\n",
              "    }\n",
              "    80% {\n",
              "      border-color: transparent;\n",
              "      border-right-color: var(--fill-color);\n",
              "      border-bottom-color: var(--fill-color);\n",
              "    }\n",
              "    90% {\n",
              "      border-color: transparent;\n",
              "      border-bottom-color: var(--fill-color);\n",
              "    }\n",
              "  }\n",
              "</style>\n",
              "\n",
              "  <script>\n",
              "    async function quickchart(key) {\n",
              "      const quickchartButtonEl =\n",
              "        document.querySelector('#' + key + ' button');\n",
              "      quickchartButtonEl.disabled = true;  // To prevent multiple clicks.\n",
              "      quickchartButtonEl.classList.add('colab-df-spinner');\n",
              "      try {\n",
              "        const charts = await google.colab.kernel.invokeFunction(\n",
              "            'suggestCharts', [key], {});\n",
              "      } catch (error) {\n",
              "        console.error('Error during call to suggestCharts:', error);\n",
              "      }\n",
              "      quickchartButtonEl.classList.remove('colab-df-spinner');\n",
              "      quickchartButtonEl.classList.add('colab-df-quickchart-complete');\n",
              "    }\n",
              "    (() => {\n",
              "      let quickchartButtonEl =\n",
              "        document.querySelector('#df-eb7957f4-e0f9-4c27-a6f2-e72feb05d310 button');\n",
              "      quickchartButtonEl.style.display =\n",
              "        google.colab.kernel.accessAllowed ? 'block' : 'none';\n",
              "    })();\n",
              "  </script>\n",
              "</div>\n",
              "    </div>\n",
              "  </div>\n"
            ],
            "application/vnd.google.colaboratory.intrinsic+json": {
              "type": "dataframe",
              "summary": "{\n  \"name\": \"open_and_show_Particle1D_table(\\\"Particle1D\\\")\",\n  \"rows\": 2107,\n  \"fields\": [\n    {\n      \"column\": \"Posi\\u00e7\\u00e3o inicial (m)\",\n      \"properties\": {\n        \"dtype\": \"number\",\n        \"std\": 0,\n        \"min\": 585,\n        \"max\": 585,\n        \"num_unique_values\": 1,\n        \"samples\": [\n          585\n        ],\n        \"semantic_type\": \"\",\n        \"description\": \"\"\n      }\n    },\n    {\n      \"column\": \"Velocidade (m/s)\",\n      \"properties\": {\n        \"dtype\": \"number\",\n        \"std\": 0,\n        \"min\": 543,\n        \"max\": 543,\n        \"num_unique_values\": 1,\n        \"samples\": [\n          543\n        ],\n        \"semantic_type\": \"\",\n        \"description\": \"\"\n      }\n    },\n    {\n      \"column\": \"Tempo (s)\",\n      \"properties\": {\n        \"dtype\": \"number\",\n        \"std\": 608,\n        \"min\": 54,\n        \"max\": 2160,\n        \"num_unique_values\": 2107,\n        \"samples\": [\n          800\n        ],\n        \"semantic_type\": \"\",\n        \"description\": \"\"\n      }\n    },\n    {\n      \"column\": \"Posi\\u00e7\\u00e3o em fun\\u00e7\\u00e3o do tempo (m)\",\n      \"properties\": {\n        \"dtype\": \"number\",\n        \"std\": 330351,\n        \"min\": 29907,\n        \"max\": 1173465,\n        \"num_unique_values\": 2107,\n        \"samples\": [\n          434985\n        ],\n        \"semantic_type\": \"\",\n        \"description\": \"\"\n      }\n    }\n  ]\n}"
            }
          },
          "metadata": {}
        }
      ]
    },
    {
      "cell_type": "markdown",
      "source": [
        "### Exibição dos resultados obtidos em gráficos"
      ],
      "metadata": {
        "id": "oOZ5rxwDf8Hh"
      }
    },
    {
      "cell_type": "code",
      "source": [
        "def open_and_plot_Particle1D_position_graph(filename):\n",
        "  '''\n",
        "    Description:\n",
        "      Essa função é responsável por plotar um gráfico que representa a posição de uma particula em função do tempo. Para tal, é lido\n",
        "      um arquivo '.csv' que contém os dados da simulação do movimento uniforme unidimensional de uma partícula.\n",
        "\n",
        "    Args:\n",
        "      filename (string): String que representa o nome do arquivo '.csv' em que se encotram os dados de da amostra usada na simulação.\n",
        "\n",
        "    Return:\n",
        "      None\n",
        "  '''\n",
        "\n",
        "  # Lê o arquivo '.csv' e o transforma em um data frame.\n",
        "  df = pd.read_csv(filename)\n",
        "\n",
        "  # Lê do data frame as amostras de tempo que serão usadas no eixo x.\n",
        "  time_samples = df['Tempo (s)'].values\n",
        "  # Lê do data frame os resultados de posição em função do tempo que serão usadas no eixo y.\n",
        "  space_samples = df['Posição em função do tempo (m)'].values\n",
        "\n",
        "  # Cria uma nova figura com o tamanho especificado (largura: 8 polegadas, altura: 4 polegadas).\n",
        "  pyplot.figure(figsize=(8, 4))\n",
        "\n",
        "  # Plota o gráfico de posição versus tempo usando os dados fornecidos.\n",
        "  pyplot.plot(time_samples, space_samples, marker='o', linestyle='-')\n",
        "\n",
        "  # Adiciona algumas informações ao gráfico.\n",
        "  pyplot.title('Posição x Tempo')\n",
        "  pyplot.xlabel('Tempo (s)')\n",
        "  pyplot.ylabel('Posição (m)')\n",
        "\n",
        "  # Exibe o gráfico plotado.\n",
        "  pyplot.grid(True)\n",
        "  pyplot.show()"
      ],
      "metadata": {
        "id": "X93TlVJIg59b"
      },
      "execution_count": 23,
      "outputs": []
    },
    {
      "cell_type": "code",
      "source": [
        "# Plota o gráfico de Posição x Tempo.\n",
        "open_and_plot_Particle1D_position_graph('Particle1D')"
      ],
      "metadata": {
        "colab": {
          "base_uri": "https://localhost:8080/",
          "height": 0
        },
        "id": "jRvGggVwe_Qi",
        "outputId": "b9f783dd-0192-4118-d18e-2a3862091728"
      },
      "execution_count": 24,
      "outputs": [
        {
          "output_type": "display_data",
          "data": {
            "text/plain": [
              "<Figure size 800x400 with 1 Axes>"
            ],
            "image/png": "[encoded data removed]"
          },
          "metadata": {}
        }
      ]
    },
    {
      "cell_type": "code",
      "source": [
        "def open_and_plot_Particle1D_speed_graph(filename):\n",
        "  '''\n",
        "    Description:\n",
        "      Essa função é responsável por plotar um gráfico que representa a velocidade de uma particula em função do tempo. Para tal, é lido\n",
        "      um arquivo '.csv' que contém os dados da simulação do movimento uniforme unidimensional de uma partícula.\n",
        "\n",
        "    Args:\n",
        "      filename (string): String que representa o nome do arquivo '.csv' em que se encotram os dados de da amostra usada na simulação.\n",
        "\n",
        "    Return:\n",
        "      None\n",
        "  '''\n",
        "\n",
        "  # Lê o arquivo '.csv' e o transforma em um data frame.\n",
        "  df = pd.read_csv(filename)\n",
        "\n",
        "  # Lê do data frame as amostras de tempo que serão usadas no eixo x.\n",
        "  time_samples = df['Tempo (s)'].values\n",
        "  # Lê do data frame os resultados de posição em função do tempo que serão usadas no eixo y.\n",
        "  space_samples = df['Velocidade (m/s)'].values\n",
        "\n",
        "  # Cria uma nova figura com o tamanho especificado (largura: 8 polegadas, altura: 4 polegadas).\n",
        "  pyplot.figure(figsize=(8, 4))\n",
        "\n",
        "  # Plota o gráfico de posição versus tempo usando os dados fornecidos.\n",
        "  pyplot.plot(time_samples, space_samples, marker='o', linestyle='-')\n",
        "\n",
        "  # Adiciona algumas informações ao gráfico.\n",
        "  pyplot.title('Velocidade x Tempo')\n",
        "  pyplot.xlabel('Tempo (s)')\n",
        "  pyplot.ylabel('Velocidade (m/s)')\n",
        "\n",
        "  # Exibe o gráfico plotado.\n",
        "  pyplot.grid(True)\n",
        "  pyplot.show()"
      ],
      "metadata": {
        "id": "YELljwoF_4AP"
      },
      "execution_count": 25,
      "outputs": []
    },
    {
      "cell_type": "code",
      "source": [
        "# Plota o gráfico de Velocidade x Tempo.\n",
        "open_and_plot_Particle1D_speed_graph('Particle1D')"
      ],
      "metadata": {
        "colab": {
          "base_uri": "https://localhost:8080/",
          "height": 0
        },
        "id": "CaPDA644BQcL",
        "outputId": "4f518b9d-5abc-4cd6-c569-32b0385bba2d"
      },
      "execution_count": 26,
      "outputs": [
        {
          "output_type": "display_data",
          "data": {
            "text/plain": [
              "<Figure size 800x400 with 1 Axes>"
            ],
            "image/png": "[encoded data removed]"
          },
          "metadata": {}
        }
      ]
    },
    {
      "cell_type": "markdown",
      "source": [
        "## Simulação de quedra livre"
      ],
      "metadata": {
        "id": "mdxueEMbFikF"
      }
    },
    {
      "cell_type": "code",
      "source": [],
      "metadata": {
        "id": "s1W0eM4RFmDy"
      },
      "execution_count": null,
      "outputs": []
    },
    {
      "cell_type": "markdown",
      "source": [
        "## Visualização de sistemas dinâmicos caóticos"
      ],
      "metadata": {
        "id": "acs20IFJFnrT"
      }
    },
    {
      "cell_type": "code",
      "source": [],
      "metadata": {
        "id": "D6ZAvClUFqts"
      },
      "execution_count": null,
      "outputs": []
    }
  ],
  "metadata": {
    "anaconda-cloud": {},
    "kernelspec": {
      "display_name": "Python [default]",
      "language": "python",
      "name": "python3"
    },
    "language_info": {
      "codemirror_mode": {
        "name": "ipython",
        "version": 3
      },
      "file_extension": ".py",
      "mimetype": "text/x-python",
      "name": "python",
      "nbconvert_exporter": "python",
      "pygments_lexer": "ipython3",
      "version": "3.5.2"
    },
    "toc": {
      "base_numbering": 1,
      "nav_menu": {},
      "number_sections": true,
      "sideBar": true,
      "skip_h1_title": false,
      "title_cell": "Table of Contents",
      "title_sidebar": "Contents",
      "toc_cell": false,
      "toc_position": {},
      "toc_section_display": true,
      "toc_window_display": false
    },
    "colab": {
      "provenance": [],
      "collapsed_sections": [
        "QklAi6a0bv1h",
        "-QJ34o0FCMsQ",
        "KzV7waGnzOsq",
        "JPLXovmXfngP",
        "mdxueEMbFikF",
        "acs20IFJFnrT"
      ],
      "include_colab_link": true
    }
  },
  "nbformat": 4,
  "nbformat_minor": 0
}